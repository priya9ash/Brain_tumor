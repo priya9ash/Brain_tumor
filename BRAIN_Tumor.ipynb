{
 "cells": [
  {
   "cell_type": "code",
   "execution_count": 1,
   "id": "bd24dd39",
   "metadata": {
    "scrolled": true
   },
   "outputs": [],
   "source": [
    "import pandas as pd \n",
    "import matplotlib.pyplot as plt\n",
    "import seaborn as sns\n",
    "import numpy as np\n",
    "from sklearn.impute import KNNImputer\n",
    "from sklearn.model_selection import train_test_split\n",
    "from sklearn.model_selection import GridSearchCV\n",
    "from sklearn.metrics import mean_squared_error \n",
    "import warnings\n",
    "warnings.filterwarnings('ignore')\n",
    "from sklearn.preprocessing import StandardScaler\n",
    "from tensorflow import keras\n",
    "from tensorflow.keras import Sequential\n",
    "from keras.layers import SimpleRNN, Dense\n",
    "\n",
    "\n"
   ]
  },
  {
   "cell_type": "code",
   "execution_count": 2,
   "id": "10297bc7",
   "metadata": {},
   "outputs": [],
   "source": [
    "df=pd.read_csv(\"data.csv\")\n"
   ]
  },
  {
   "cell_type": "markdown",
   "id": "f7775268",
   "metadata": {},
   "source": [
    "# Split THe data First!!!"
   ]
  },
  {
   "cell_type": "code",
   "execution_count": 3,
   "id": "8456841c",
   "metadata": {},
   "outputs": [],
   "source": [
    "\n",
    "df.drop(['Patient','tumor_tissue_site'],axis=1,inplace=True)\n",
    "\n",
    "df_train, df_test= train_test_split(df, test_size=0.2)"
   ]
  },
  {
   "cell_type": "markdown",
   "id": "ba6c011f",
   "metadata": {},
   "source": [
    "# How Big Is The data ?"
   ]
  },
  {
   "cell_type": "code",
   "execution_count": 4,
   "id": "eeadf1e9",
   "metadata": {},
   "outputs": [
    {
     "data": {
      "text/plain": [
       "(88, 16)"
      ]
     },
     "execution_count": 4,
     "metadata": {},
     "output_type": "execute_result"
    }
   ],
   "source": [
    "df_train.shape"
   ]
  },
  {
   "cell_type": "markdown",
   "id": "ab71b4fc",
   "metadata": {},
   "source": [
    "# How does the data look like?"
   ]
  },
  {
   "cell_type": "code",
   "execution_count": 5,
   "id": "86fd8a61",
   "metadata": {},
   "outputs": [
    {
     "data": {
      "text/html": [
       "<div>\n",
       "<style scoped>\n",
       "    .dataframe tbody tr th:only-of-type {\n",
       "        vertical-align: middle;\n",
       "    }\n",
       "\n",
       "    .dataframe tbody tr th {\n",
       "        vertical-align: top;\n",
       "    }\n",
       "\n",
       "    .dataframe thead th {\n",
       "        text-align: right;\n",
       "    }\n",
       "</style>\n",
       "<table border=\"1\" class=\"dataframe\">\n",
       "  <thead>\n",
       "    <tr style=\"text-align: right;\">\n",
       "      <th></th>\n",
       "      <th>RNASeqCluster</th>\n",
       "      <th>MethylationCluster</th>\n",
       "      <th>miRNACluster</th>\n",
       "      <th>CNCluster</th>\n",
       "      <th>RPPACluster</th>\n",
       "      <th>OncosignCluster</th>\n",
       "      <th>COCCluster</th>\n",
       "      <th>histological_type</th>\n",
       "      <th>neoplasm_histologic_grade</th>\n",
       "      <th>laterality</th>\n",
       "      <th>tumor_location</th>\n",
       "      <th>gender</th>\n",
       "      <th>age_at_initial_pathologic</th>\n",
       "      <th>race</th>\n",
       "      <th>ethnicity</th>\n",
       "      <th>death01</th>\n",
       "    </tr>\n",
       "  </thead>\n",
       "  <tbody>\n",
       "    <tr>\n",
       "      <th>55</th>\n",
       "      <td>2.0</td>\n",
       "      <td>3.0</td>\n",
       "      <td>2</td>\n",
       "      <td>1.0</td>\n",
       "      <td>1.0</td>\n",
       "      <td>2.0</td>\n",
       "      <td>1</td>\n",
       "      <td>2.0</td>\n",
       "      <td>1.0</td>\n",
       "      <td>1.0</td>\n",
       "      <td>6.0</td>\n",
       "      <td>2.0</td>\n",
       "      <td>51.0</td>\n",
       "      <td>3.0</td>\n",
       "      <td>2.0</td>\n",
       "      <td>0.0</td>\n",
       "    </tr>\n",
       "    <tr>\n",
       "      <th>26</th>\n",
       "      <td>3.0</td>\n",
       "      <td>2.0</td>\n",
       "      <td>2</td>\n",
       "      <td>3.0</td>\n",
       "      <td>2.0</td>\n",
       "      <td>1.0</td>\n",
       "      <td>3</td>\n",
       "      <td>3.0</td>\n",
       "      <td>1.0</td>\n",
       "      <td>1.0</td>\n",
       "      <td>6.0</td>\n",
       "      <td>1.0</td>\n",
       "      <td>66.0</td>\n",
       "      <td>3.0</td>\n",
       "      <td>2.0</td>\n",
       "      <td>1.0</td>\n",
       "    </tr>\n",
       "    <tr>\n",
       "      <th>52</th>\n",
       "      <td>1.0</td>\n",
       "      <td>3.0</td>\n",
       "      <td>1</td>\n",
       "      <td>1.0</td>\n",
       "      <td>4.0</td>\n",
       "      <td>2.0</td>\n",
       "      <td>1</td>\n",
       "      <td>2.0</td>\n",
       "      <td>1.0</td>\n",
       "      <td>3.0</td>\n",
       "      <td>2.0</td>\n",
       "      <td>1.0</td>\n",
       "      <td>69.0</td>\n",
       "      <td>3.0</td>\n",
       "      <td>2.0</td>\n",
       "      <td>0.0</td>\n",
       "    </tr>\n",
       "    <tr>\n",
       "      <th>12</th>\n",
       "      <td>NaN</td>\n",
       "      <td>5.0</td>\n",
       "      <td>2</td>\n",
       "      <td>1.0</td>\n",
       "      <td>3.0</td>\n",
       "      <td>2.0</td>\n",
       "      <td>1</td>\n",
       "      <td>1.0</td>\n",
       "      <td>2.0</td>\n",
       "      <td>3.0</td>\n",
       "      <td>5.0</td>\n",
       "      <td>2.0</td>\n",
       "      <td>22.0</td>\n",
       "      <td>3.0</td>\n",
       "      <td>2.0</td>\n",
       "      <td>0.0</td>\n",
       "    </tr>\n",
       "    <tr>\n",
       "      <th>103</th>\n",
       "      <td>4.0</td>\n",
       "      <td>3.0</td>\n",
       "      <td>1</td>\n",
       "      <td>1.0</td>\n",
       "      <td>4.0</td>\n",
       "      <td>1.0</td>\n",
       "      <td>1</td>\n",
       "      <td>3.0</td>\n",
       "      <td>1.0</td>\n",
       "      <td>1.0</td>\n",
       "      <td>2.0</td>\n",
       "      <td>1.0</td>\n",
       "      <td>49.0</td>\n",
       "      <td>2.0</td>\n",
       "      <td>2.0</td>\n",
       "      <td>0.0</td>\n",
       "    </tr>\n",
       "  </tbody>\n",
       "</table>\n",
       "</div>"
      ],
      "text/plain": [
       "     RNASeqCluster  MethylationCluster  miRNACluster  CNCluster  RPPACluster  \\\n",
       "55             2.0                 3.0             2        1.0          1.0   \n",
       "26             3.0                 2.0             2        3.0          2.0   \n",
       "52             1.0                 3.0             1        1.0          4.0   \n",
       "12             NaN                 5.0             2        1.0          3.0   \n",
       "103            4.0                 3.0             1        1.0          4.0   \n",
       "\n",
       "     OncosignCluster  COCCluster  histological_type  \\\n",
       "55               2.0           1                2.0   \n",
       "26               1.0           3                3.0   \n",
       "52               2.0           1                2.0   \n",
       "12               2.0           1                1.0   \n",
       "103              1.0           1                3.0   \n",
       "\n",
       "     neoplasm_histologic_grade  laterality  tumor_location  gender  \\\n",
       "55                         1.0         1.0             6.0     2.0   \n",
       "26                         1.0         1.0             6.0     1.0   \n",
       "52                         1.0         3.0             2.0     1.0   \n",
       "12                         2.0         3.0             5.0     2.0   \n",
       "103                        1.0         1.0             2.0     1.0   \n",
       "\n",
       "     age_at_initial_pathologic  race  ethnicity  death01  \n",
       "55                        51.0   3.0        2.0      0.0  \n",
       "26                        66.0   3.0        2.0      1.0  \n",
       "52                        69.0   3.0        2.0      0.0  \n",
       "12                        22.0   3.0        2.0      0.0  \n",
       "103                       49.0   2.0        2.0      0.0  "
      ]
     },
     "execution_count": 5,
     "metadata": {},
     "output_type": "execute_result"
    }
   ],
   "source": [
    "df_train.head(5)"
   ]
  },
  {
   "cell_type": "markdown",
   "id": "1c4ea602",
   "metadata": {},
   "source": [
    "# what is the data type of the collumn?"
   ]
  },
  {
   "cell_type": "code",
   "execution_count": 6,
   "id": "96bb04dc",
   "metadata": {},
   "outputs": [
    {
     "name": "stdout",
     "output_type": "stream",
     "text": [
      "<class 'pandas.core.frame.DataFrame'>\n",
      "Int64Index: 88 entries, 55 to 96\n",
      "Data columns (total 16 columns):\n",
      " #   Column                     Non-Null Count  Dtype  \n",
      "---  ------                     --------------  -----  \n",
      " 0   RNASeqCluster              73 non-null     float64\n",
      " 1   MethylationCluster         87 non-null     float64\n",
      " 2   miRNACluster               88 non-null     int64  \n",
      " 3   CNCluster                  86 non-null     float64\n",
      " 4   RPPACluster                77 non-null     float64\n",
      " 5   OncosignCluster            86 non-null     float64\n",
      " 6   COCCluster                 88 non-null     int64  \n",
      " 7   histological_type          88 non-null     float64\n",
      " 8   neoplasm_histologic_grade  88 non-null     float64\n",
      " 9   laterality                 88 non-null     float64\n",
      " 10  tumor_location             88 non-null     float64\n",
      " 11  gender                     88 non-null     float64\n",
      " 12  age_at_initial_pathologic  88 non-null     float64\n",
      " 13  race                       87 non-null     float64\n",
      " 14  ethnicity                  82 non-null     float64\n",
      " 15  death01                    88 non-null     float64\n",
      "dtypes: float64(14), int64(2)\n",
      "memory usage: 11.7 KB\n"
     ]
    }
   ],
   "source": [
    "df_train.info()"
   ]
  },
  {
   "cell_type": "markdown",
   "id": "13747498",
   "metadata": {},
   "source": [
    " # Are there any missing Values?"
   ]
  },
  {
   "cell_type": "code",
   "execution_count": 7,
   "id": "17bde038",
   "metadata": {},
   "outputs": [
    {
     "data": {
      "text/plain": [
       "RNASeqCluster                15\n",
       "MethylationCluster            1\n",
       "miRNACluster                  0\n",
       "CNCluster                     2\n",
       "RPPACluster                  11\n",
       "OncosignCluster               2\n",
       "COCCluster                    0\n",
       "histological_type             0\n",
       "neoplasm_histologic_grade     0\n",
       "laterality                    0\n",
       "tumor_location                0\n",
       "gender                        0\n",
       "age_at_initial_pathologic     0\n",
       "race                          1\n",
       "ethnicity                     6\n",
       "death01                       0\n",
       "dtype: int64"
      ]
     },
     "execution_count": 7,
     "metadata": {},
     "output_type": "execute_result"
    }
   ],
   "source": [
    "df_train.isnull().sum()"
   ]
  },
  {
   "cell_type": "code",
   "execution_count": 8,
   "id": "31daeed8",
   "metadata": {},
   "outputs": [
    {
     "data": {
      "text/plain": [
       "RNASeqCluster                17.045455\n",
       "MethylationCluster            1.136364\n",
       "miRNACluster                  0.000000\n",
       "CNCluster                     2.272727\n",
       "RPPACluster                  12.500000\n",
       "OncosignCluster               2.272727\n",
       "COCCluster                    0.000000\n",
       "histological_type             0.000000\n",
       "neoplasm_histologic_grade     0.000000\n",
       "laterality                    0.000000\n",
       "tumor_location                0.000000\n",
       "gender                        0.000000\n",
       "age_at_initial_pathologic     0.000000\n",
       "race                          1.136364\n",
       "ethnicity                     6.818182\n",
       "death01                       0.000000\n",
       "dtype: float64"
      ]
     },
     "execution_count": 8,
     "metadata": {},
     "output_type": "execute_result"
    }
   ],
   "source": [
    "df_train.isnull().mean()*100"
   ]
  },
  {
   "cell_type": "markdown",
   "id": "9b928af9",
   "metadata": {},
   "source": [
    "# Create a KNNImputer object to impute missing Values"
   ]
  },
  {
   "cell_type": "code",
   "execution_count": 9,
   "id": "19e444a3",
   "metadata": {},
   "outputs": [
    {
     "name": "stdout",
     "output_type": "stream",
     "text": [
      "Best parameters: {'n_neighbors': 1}\n"
     ]
    }
   ],
   "source": [
    "knn_imputer = KNNImputer()\n",
    "param_grid = {'n_neighbors': np.arange(1, 10)}\n",
    "grid_search = GridSearchCV(knn_imputer, param_grid,scoring='neg_mean_squared_error', cv=5, n_jobs=-1)\n",
    "grid_search.fit(df_train)\n",
    "print(\"Best parameters:\", grid_search.best_params_)\n",
    "\n",
    "\n"
   ]
  },
  {
   "cell_type": "code",
   "execution_count": 10,
   "id": "b71acad9",
   "metadata": {},
   "outputs": [],
   "source": [
    "knn_object=KNNImputer(n_neighbors=1)\n",
    "df_trf_train=knn_object.fit_transform(df_train)\n",
    "df_trf_test=knn_object.transform(df_test)"
   ]
  },
  {
   "cell_type": "code",
   "execution_count": 11,
   "id": "43fb06f2",
   "metadata": {},
   "outputs": [],
   "source": [
    "train1=pd.DataFrame(df_trf_train,columns=df_train.columns)\n",
    "test1=pd.DataFrame(df_trf_test,columns=df_test.columns)"
   ]
  },
  {
   "cell_type": "markdown",
   "id": "7199fa7e",
   "metadata": {},
   "source": [
    "# how does the data look mathematically?"
   ]
  },
  {
   "cell_type": "code",
   "execution_count": 12,
   "id": "60298932",
   "metadata": {},
   "outputs": [
    {
     "data": {
      "text/html": [
       "<div>\n",
       "<style scoped>\n",
       "    .dataframe tbody tr th:only-of-type {\n",
       "        vertical-align: middle;\n",
       "    }\n",
       "\n",
       "    .dataframe tbody tr th {\n",
       "        vertical-align: top;\n",
       "    }\n",
       "\n",
       "    .dataframe thead th {\n",
       "        text-align: right;\n",
       "    }\n",
       "</style>\n",
       "<table border=\"1\" class=\"dataframe\">\n",
       "  <thead>\n",
       "    <tr style=\"text-align: right;\">\n",
       "      <th></th>\n",
       "      <th>RNASeqCluster</th>\n",
       "      <th>MethylationCluster</th>\n",
       "      <th>miRNACluster</th>\n",
       "      <th>CNCluster</th>\n",
       "      <th>RPPACluster</th>\n",
       "      <th>OncosignCluster</th>\n",
       "      <th>COCCluster</th>\n",
       "      <th>histological_type</th>\n",
       "      <th>neoplasm_histologic_grade</th>\n",
       "      <th>laterality</th>\n",
       "      <th>tumor_location</th>\n",
       "      <th>gender</th>\n",
       "      <th>age_at_initial_pathologic</th>\n",
       "      <th>race</th>\n",
       "      <th>ethnicity</th>\n",
       "      <th>death01</th>\n",
       "    </tr>\n",
       "  </thead>\n",
       "  <tbody>\n",
       "    <tr>\n",
       "      <th>count</th>\n",
       "      <td>88.000000</td>\n",
       "      <td>88.000000</td>\n",
       "      <td>88.000000</td>\n",
       "      <td>88.000000</td>\n",
       "      <td>88.000000</td>\n",
       "      <td>88.000000</td>\n",
       "      <td>88.000000</td>\n",
       "      <td>88.000000</td>\n",
       "      <td>88.000000</td>\n",
       "      <td>88.000000</td>\n",
       "      <td>88.000000</td>\n",
       "      <td>88.000000</td>\n",
       "      <td>88.000000</td>\n",
       "      <td>88.000000</td>\n",
       "      <td>88.000000</td>\n",
       "      <td>88.000000</td>\n",
       "    </tr>\n",
       "    <tr>\n",
       "      <th>mean</th>\n",
       "      <td>2.352273</td>\n",
       "      <td>3.602273</td>\n",
       "      <td>1.943182</td>\n",
       "      <td>1.738636</td>\n",
       "      <td>2.488636</td>\n",
       "      <td>1.886364</td>\n",
       "      <td>1.795455</td>\n",
       "      <td>2.147727</td>\n",
       "      <td>1.522727</td>\n",
       "      <td>2.090909</td>\n",
       "      <td>3.613636</td>\n",
       "      <td>1.454545</td>\n",
       "      <td>45.715909</td>\n",
       "      <td>2.886364</td>\n",
       "      <td>1.965909</td>\n",
       "      <td>0.238636</td>\n",
       "    </tr>\n",
       "    <tr>\n",
       "      <th>std</th>\n",
       "      <td>1.174830</td>\n",
       "      <td>1.160061</td>\n",
       "      <td>0.807408</td>\n",
       "      <td>0.864289</td>\n",
       "      <td>1.114113</td>\n",
       "      <td>0.685344</td>\n",
       "      <td>0.859819</td>\n",
       "      <td>0.864893</td>\n",
       "      <td>0.502346</td>\n",
       "      <td>0.990023</td>\n",
       "      <td>1.908431</td>\n",
       "      <td>0.500783</td>\n",
       "      <td>13.899433</td>\n",
       "      <td>0.319188</td>\n",
       "      <td>0.182503</td>\n",
       "      <td>0.428693</td>\n",
       "    </tr>\n",
       "    <tr>\n",
       "      <th>min</th>\n",
       "      <td>1.000000</td>\n",
       "      <td>1.000000</td>\n",
       "      <td>1.000000</td>\n",
       "      <td>1.000000</td>\n",
       "      <td>1.000000</td>\n",
       "      <td>1.000000</td>\n",
       "      <td>1.000000</td>\n",
       "      <td>1.000000</td>\n",
       "      <td>1.000000</td>\n",
       "      <td>1.000000</td>\n",
       "      <td>1.000000</td>\n",
       "      <td>1.000000</td>\n",
       "      <td>20.000000</td>\n",
       "      <td>2.000000</td>\n",
       "      <td>1.000000</td>\n",
       "      <td>0.000000</td>\n",
       "    </tr>\n",
       "    <tr>\n",
       "      <th>25%</th>\n",
       "      <td>1.000000</td>\n",
       "      <td>3.000000</td>\n",
       "      <td>1.000000</td>\n",
       "      <td>1.000000</td>\n",
       "      <td>2.000000</td>\n",
       "      <td>1.000000</td>\n",
       "      <td>1.000000</td>\n",
       "      <td>1.000000</td>\n",
       "      <td>1.000000</td>\n",
       "      <td>1.000000</td>\n",
       "      <td>2.000000</td>\n",
       "      <td>1.000000</td>\n",
       "      <td>33.750000</td>\n",
       "      <td>3.000000</td>\n",
       "      <td>2.000000</td>\n",
       "      <td>0.000000</td>\n",
       "    </tr>\n",
       "    <tr>\n",
       "      <th>50%</th>\n",
       "      <td>2.000000</td>\n",
       "      <td>4.000000</td>\n",
       "      <td>2.000000</td>\n",
       "      <td>1.000000</td>\n",
       "      <td>2.000000</td>\n",
       "      <td>2.000000</td>\n",
       "      <td>2.000000</td>\n",
       "      <td>2.000000</td>\n",
       "      <td>2.000000</td>\n",
       "      <td>3.000000</td>\n",
       "      <td>2.000000</td>\n",
       "      <td>1.000000</td>\n",
       "      <td>45.500000</td>\n",
       "      <td>3.000000</td>\n",
       "      <td>2.000000</td>\n",
       "      <td>0.000000</td>\n",
       "    </tr>\n",
       "    <tr>\n",
       "      <th>75%</th>\n",
       "      <td>4.000000</td>\n",
       "      <td>5.000000</td>\n",
       "      <td>2.000000</td>\n",
       "      <td>3.000000</td>\n",
       "      <td>4.000000</td>\n",
       "      <td>2.000000</td>\n",
       "      <td>3.000000</td>\n",
       "      <td>3.000000</td>\n",
       "      <td>2.000000</td>\n",
       "      <td>3.000000</td>\n",
       "      <td>6.000000</td>\n",
       "      <td>2.000000</td>\n",
       "      <td>57.250000</td>\n",
       "      <td>3.000000</td>\n",
       "      <td>2.000000</td>\n",
       "      <td>0.000000</td>\n",
       "    </tr>\n",
       "    <tr>\n",
       "      <th>max</th>\n",
       "      <td>4.000000</td>\n",
       "      <td>5.000000</td>\n",
       "      <td>4.000000</td>\n",
       "      <td>3.000000</td>\n",
       "      <td>4.000000</td>\n",
       "      <td>3.000000</td>\n",
       "      <td>3.000000</td>\n",
       "      <td>3.000000</td>\n",
       "      <td>2.000000</td>\n",
       "      <td>3.000000</td>\n",
       "      <td>6.000000</td>\n",
       "      <td>2.000000</td>\n",
       "      <td>75.000000</td>\n",
       "      <td>3.000000</td>\n",
       "      <td>2.000000</td>\n",
       "      <td>1.000000</td>\n",
       "    </tr>\n",
       "  </tbody>\n",
       "</table>\n",
       "</div>"
      ],
      "text/plain": [
       "       RNASeqCluster  MethylationCluster  miRNACluster  CNCluster  \\\n",
       "count      88.000000           88.000000     88.000000  88.000000   \n",
       "mean        2.352273            3.602273      1.943182   1.738636   \n",
       "std         1.174830            1.160061      0.807408   0.864289   \n",
       "min         1.000000            1.000000      1.000000   1.000000   \n",
       "25%         1.000000            3.000000      1.000000   1.000000   \n",
       "50%         2.000000            4.000000      2.000000   1.000000   \n",
       "75%         4.000000            5.000000      2.000000   3.000000   \n",
       "max         4.000000            5.000000      4.000000   3.000000   \n",
       "\n",
       "       RPPACluster  OncosignCluster  COCCluster  histological_type  \\\n",
       "count    88.000000        88.000000   88.000000          88.000000   \n",
       "mean      2.488636         1.886364    1.795455           2.147727   \n",
       "std       1.114113         0.685344    0.859819           0.864893   \n",
       "min       1.000000         1.000000    1.000000           1.000000   \n",
       "25%       2.000000         1.000000    1.000000           1.000000   \n",
       "50%       2.000000         2.000000    2.000000           2.000000   \n",
       "75%       4.000000         2.000000    3.000000           3.000000   \n",
       "max       4.000000         3.000000    3.000000           3.000000   \n",
       "\n",
       "       neoplasm_histologic_grade  laterality  tumor_location     gender  \\\n",
       "count                  88.000000   88.000000       88.000000  88.000000   \n",
       "mean                    1.522727    2.090909        3.613636   1.454545   \n",
       "std                     0.502346    0.990023        1.908431   0.500783   \n",
       "min                     1.000000    1.000000        1.000000   1.000000   \n",
       "25%                     1.000000    1.000000        2.000000   1.000000   \n",
       "50%                     2.000000    3.000000        2.000000   1.000000   \n",
       "75%                     2.000000    3.000000        6.000000   2.000000   \n",
       "max                     2.000000    3.000000        6.000000   2.000000   \n",
       "\n",
       "       age_at_initial_pathologic       race  ethnicity    death01  \n",
       "count                  88.000000  88.000000  88.000000  88.000000  \n",
       "mean                   45.715909   2.886364   1.965909   0.238636  \n",
       "std                    13.899433   0.319188   0.182503   0.428693  \n",
       "min                    20.000000   2.000000   1.000000   0.000000  \n",
       "25%                    33.750000   3.000000   2.000000   0.000000  \n",
       "50%                    45.500000   3.000000   2.000000   0.000000  \n",
       "75%                    57.250000   3.000000   2.000000   0.000000  \n",
       "max                    75.000000   3.000000   2.000000   1.000000  "
      ]
     },
     "execution_count": 12,
     "metadata": {},
     "output_type": "execute_result"
    }
   ],
   "source": [
    "train1.describe()"
   ]
  },
  {
   "cell_type": "markdown",
   "id": "13bea5b9",
   "metadata": {},
   "source": [
    "# Are there any duplicate values?"
   ]
  },
  {
   "cell_type": "code",
   "execution_count": 13,
   "id": "903757b5",
   "metadata": {},
   "outputs": [
    {
     "data": {
      "text/plain": [
       "0"
      ]
     },
     "execution_count": 13,
     "metadata": {},
     "output_type": "execute_result"
    }
   ],
   "source": [
    "train1.duplicated().sum()"
   ]
  },
  {
   "cell_type": "markdown",
   "id": "aef73cf7",
   "metadata": {},
   "source": [
    "# Drop duplicate row"
   ]
  },
  {
   "cell_type": "code",
   "execution_count": 14,
   "id": "859535e3",
   "metadata": {},
   "outputs": [],
   "source": [
    "train1.drop_duplicates(inplace=True)"
   ]
  },
  {
   "cell_type": "code",
   "execution_count": 15,
   "id": "b64e2ee3",
   "metadata": {},
   "outputs": [
    {
     "data": {
      "text/plain": [
       "0"
      ]
     },
     "execution_count": 15,
     "metadata": {},
     "output_type": "execute_result"
    }
   ],
   "source": [
    "train1.duplicated().sum()\n"
   ]
  },
  {
   "cell_type": "code",
   "execution_count": 16,
   "id": "db328d5a",
   "metadata": {},
   "outputs": [
    {
     "data": {
      "text/plain": [
       "0"
      ]
     },
     "execution_count": 16,
     "metadata": {},
     "output_type": "execute_result"
    }
   ],
   "source": [
    "test1.duplicated().sum()"
   ]
  },
  {
   "cell_type": "markdown",
   "id": "fe0a4b5b",
   "metadata": {},
   "source": [
    "# how is the correlation between collumns?"
   ]
  },
  {
   "cell_type": "code",
   "execution_count": 17,
   "id": "2f895074",
   "metadata": {
    "scrolled": true
   },
   "outputs": [
    {
     "data": {
      "text/html": [
       "<div>\n",
       "<style scoped>\n",
       "    .dataframe tbody tr th:only-of-type {\n",
       "        vertical-align: middle;\n",
       "    }\n",
       "\n",
       "    .dataframe tbody tr th {\n",
       "        vertical-align: top;\n",
       "    }\n",
       "\n",
       "    .dataframe thead th {\n",
       "        text-align: right;\n",
       "    }\n",
       "</style>\n",
       "<table border=\"1\" class=\"dataframe\">\n",
       "  <thead>\n",
       "    <tr style=\"text-align: right;\">\n",
       "      <th></th>\n",
       "      <th>RNASeqCluster</th>\n",
       "      <th>MethylationCluster</th>\n",
       "      <th>miRNACluster</th>\n",
       "      <th>CNCluster</th>\n",
       "      <th>RPPACluster</th>\n",
       "      <th>OncosignCluster</th>\n",
       "      <th>COCCluster</th>\n",
       "      <th>histological_type</th>\n",
       "      <th>neoplasm_histologic_grade</th>\n",
       "      <th>laterality</th>\n",
       "      <th>tumor_location</th>\n",
       "      <th>gender</th>\n",
       "      <th>age_at_initial_pathologic</th>\n",
       "      <th>race</th>\n",
       "      <th>ethnicity</th>\n",
       "      <th>death01</th>\n",
       "    </tr>\n",
       "  </thead>\n",
       "  <tbody>\n",
       "    <tr>\n",
       "      <th>RNASeqCluster</th>\n",
       "      <td>1.000000</td>\n",
       "      <td>-0.385177</td>\n",
       "      <td>-0.330064</td>\n",
       "      <td>0.340758</td>\n",
       "      <td>0.332406</td>\n",
       "      <td>-0.306603</td>\n",
       "      <td>0.322487</td>\n",
       "      <td>0.355431</td>\n",
       "      <td>-0.023460</td>\n",
       "      <td>0.100620</td>\n",
       "      <td>-0.123155</td>\n",
       "      <td>-0.118998</td>\n",
       "      <td>0.125158</td>\n",
       "      <td>-0.045281</td>\n",
       "      <td>0.110264</td>\n",
       "      <td>-0.100366</td>\n",
       "    </tr>\n",
       "    <tr>\n",
       "      <th>MethylationCluster</th>\n",
       "      <td>-0.385177</td>\n",
       "      <td>1.000000</td>\n",
       "      <td>0.184216</td>\n",
       "      <td>-0.391474</td>\n",
       "      <td>-0.257001</td>\n",
       "      <td>0.332849</td>\n",
       "      <td>-0.382116</td>\n",
       "      <td>-0.433379</td>\n",
       "      <td>0.183345</td>\n",
       "      <td>-0.038213</td>\n",
       "      <td>0.137466</td>\n",
       "      <td>0.097130</td>\n",
       "      <td>-0.323597</td>\n",
       "      <td>-0.154506</td>\n",
       "      <td>0.043803</td>\n",
       "      <td>-0.061197</td>\n",
       "    </tr>\n",
       "    <tr>\n",
       "      <th>miRNACluster</th>\n",
       "      <td>-0.330064</td>\n",
       "      <td>0.184216</td>\n",
       "      <td>1.000000</td>\n",
       "      <td>-0.120353</td>\n",
       "      <td>-0.198783</td>\n",
       "      <td>0.175146</td>\n",
       "      <td>-0.066604</td>\n",
       "      <td>-0.185360</td>\n",
       "      <td>0.159085</td>\n",
       "      <td>-0.094120</td>\n",
       "      <td>0.037806</td>\n",
       "      <td>0.121463</td>\n",
       "      <td>0.115306</td>\n",
       "      <td>0.019259</td>\n",
       "      <td>-0.013296</td>\n",
       "      <td>0.139247</td>\n",
       "    </tr>\n",
       "    <tr>\n",
       "      <th>CNCluster</th>\n",
       "      <td>0.340758</td>\n",
       "      <td>-0.391474</td>\n",
       "      <td>-0.120353</td>\n",
       "      <td>1.000000</td>\n",
       "      <td>0.169965</td>\n",
       "      <td>-0.361197</td>\n",
       "      <td>0.917140</td>\n",
       "      <td>0.359776</td>\n",
       "      <td>0.080024</td>\n",
       "      <td>0.122119</td>\n",
       "      <td>-0.284920</td>\n",
       "      <td>0.091741</td>\n",
       "      <td>0.435793</td>\n",
       "      <td>0.057763</td>\n",
       "      <td>0.161475</td>\n",
       "      <td>-0.015864</td>\n",
       "    </tr>\n",
       "    <tr>\n",
       "      <th>RPPACluster</th>\n",
       "      <td>0.332406</td>\n",
       "      <td>-0.257001</td>\n",
       "      <td>-0.198783</td>\n",
       "      <td>0.169965</td>\n",
       "      <td>1.000000</td>\n",
       "      <td>-0.031818</td>\n",
       "      <td>0.093537</td>\n",
       "      <td>0.174727</td>\n",
       "      <td>0.175036</td>\n",
       "      <td>0.146840</td>\n",
       "      <td>-0.045337</td>\n",
       "      <td>-0.114245</td>\n",
       "      <td>0.182755</td>\n",
       "      <td>0.319552</td>\n",
       "      <td>0.082868</td>\n",
       "      <td>0.017776</td>\n",
       "    </tr>\n",
       "    <tr>\n",
       "      <th>OncosignCluster</th>\n",
       "      <td>-0.306603</td>\n",
       "      <td>0.332849</td>\n",
       "      <td>0.175146</td>\n",
       "      <td>-0.361197</td>\n",
       "      <td>-0.031818</td>\n",
       "      <td>1.000000</td>\n",
       "      <td>-0.371498</td>\n",
       "      <td>-0.417356</td>\n",
       "      <td>0.207906</td>\n",
       "      <td>-0.052362</td>\n",
       "      <td>0.256053</td>\n",
       "      <td>0.051758</td>\n",
       "      <td>0.096723</td>\n",
       "      <td>-0.007165</td>\n",
       "      <td>0.060569</td>\n",
       "      <td>0.171605</td>\n",
       "    </tr>\n",
       "    <tr>\n",
       "      <th>COCCluster</th>\n",
       "      <td>0.322487</td>\n",
       "      <td>-0.382116</td>\n",
       "      <td>-0.066604</td>\n",
       "      <td>0.917140</td>\n",
       "      <td>0.093537</td>\n",
       "      <td>-0.371498</td>\n",
       "      <td>1.000000</td>\n",
       "      <td>0.381143</td>\n",
       "      <td>0.090721</td>\n",
       "      <td>0.089610</td>\n",
       "      <td>-0.335913</td>\n",
       "      <td>0.084937</td>\n",
       "      <td>0.423075</td>\n",
       "      <td>0.081860</td>\n",
       "      <td>0.101550</td>\n",
       "      <td>0.009213</td>\n",
       "    </tr>\n",
       "    <tr>\n",
       "      <th>histological_type</th>\n",
       "      <td>0.355431</td>\n",
       "      <td>-0.433379</td>\n",
       "      <td>-0.185360</td>\n",
       "      <td>0.359776</td>\n",
       "      <td>0.174727</td>\n",
       "      <td>-0.417356</td>\n",
       "      <td>0.381143</td>\n",
       "      <td>1.000000</td>\n",
       "      <td>-0.259143</td>\n",
       "      <td>0.158644</td>\n",
       "      <td>-0.187862</td>\n",
       "      <td>0.028951</td>\n",
       "      <td>0.104882</td>\n",
       "      <td>0.061508</td>\n",
       "      <td>0.032272</td>\n",
       "      <td>0.058831</td>\n",
       "    </tr>\n",
       "    <tr>\n",
       "      <th>neoplasm_histologic_grade</th>\n",
       "      <td>-0.023460</td>\n",
       "      <td>0.183345</td>\n",
       "      <td>0.159085</td>\n",
       "      <td>0.080024</td>\n",
       "      <td>0.175036</td>\n",
       "      <td>0.207906</td>\n",
       "      <td>0.090721</td>\n",
       "      <td>-0.259143</td>\n",
       "      <td>1.000000</td>\n",
       "      <td>0.065133</td>\n",
       "      <td>-0.050683</td>\n",
       "      <td>0.049844</td>\n",
       "      <td>0.163085</td>\n",
       "      <td>0.087978</td>\n",
       "      <td>0.071235</td>\n",
       "      <td>0.268084</td>\n",
       "    </tr>\n",
       "    <tr>\n",
       "      <th>laterality</th>\n",
       "      <td>0.100620</td>\n",
       "      <td>-0.038213</td>\n",
       "      <td>-0.094120</td>\n",
       "      <td>0.122119</td>\n",
       "      <td>0.146840</td>\n",
       "      <td>-0.052362</td>\n",
       "      <td>0.089610</td>\n",
       "      <td>0.158644</td>\n",
       "      <td>0.065133</td>\n",
       "      <td>1.000000</td>\n",
       "      <td>-0.108951</td>\n",
       "      <td>0.031614</td>\n",
       "      <td>-0.091654</td>\n",
       "      <td>0.033067</td>\n",
       "      <td>0.017350</td>\n",
       "      <td>0.029545</td>\n",
       "    </tr>\n",
       "    <tr>\n",
       "      <th>tumor_location</th>\n",
       "      <td>-0.123155</td>\n",
       "      <td>0.137466</td>\n",
       "      <td>0.037806</td>\n",
       "      <td>-0.284920</td>\n",
       "      <td>-0.045337</td>\n",
       "      <td>0.256053</td>\n",
       "      <td>-0.335913</td>\n",
       "      <td>-0.187862</td>\n",
       "      <td>-0.050683</td>\n",
       "      <td>-0.108951</td>\n",
       "      <td>1.000000</td>\n",
       "      <td>0.161817</td>\n",
       "      <td>-0.153680</td>\n",
       "      <td>-0.035166</td>\n",
       "      <td>0.060753</td>\n",
       "      <td>0.113992</td>\n",
       "    </tr>\n",
       "    <tr>\n",
       "      <th>gender</th>\n",
       "      <td>-0.118998</td>\n",
       "      <td>0.097130</td>\n",
       "      <td>0.121463</td>\n",
       "      <td>0.091741</td>\n",
       "      <td>-0.114245</td>\n",
       "      <td>0.051758</td>\n",
       "      <td>0.084937</td>\n",
       "      <td>0.028951</td>\n",
       "      <td>0.049844</td>\n",
       "      <td>0.031614</td>\n",
       "      <td>0.161817</td>\n",
       "      <td>1.000000</td>\n",
       "      <td>0.073259</td>\n",
       "      <td>0.039223</td>\n",
       "      <td>-0.080033</td>\n",
       "      <td>-0.029204</td>\n",
       "    </tr>\n",
       "    <tr>\n",
       "      <th>age_at_initial_pathologic</th>\n",
       "      <td>0.125158</td>\n",
       "      <td>-0.323597</td>\n",
       "      <td>0.115306</td>\n",
       "      <td>0.435793</td>\n",
       "      <td>0.182755</td>\n",
       "      <td>0.096723</td>\n",
       "      <td>0.423075</td>\n",
       "      <td>0.104882</td>\n",
       "      <td>0.163085</td>\n",
       "      <td>-0.091654</td>\n",
       "      <td>-0.153680</td>\n",
       "      <td>0.073259</td>\n",
       "      <td>1.000000</td>\n",
       "      <td>0.018548</td>\n",
       "      <td>0.050513</td>\n",
       "      <td>0.268069</td>\n",
       "    </tr>\n",
       "    <tr>\n",
       "      <th>race</th>\n",
       "      <td>-0.045281</td>\n",
       "      <td>-0.154506</td>\n",
       "      <td>0.019259</td>\n",
       "      <td>0.057763</td>\n",
       "      <td>0.319552</td>\n",
       "      <td>-0.007165</td>\n",
       "      <td>0.081860</td>\n",
       "      <td>0.061508</td>\n",
       "      <td>0.087978</td>\n",
       "      <td>0.033067</td>\n",
       "      <td>-0.035166</td>\n",
       "      <td>0.039223</td>\n",
       "      <td>0.018548</td>\n",
       "      <td>1.000000</td>\n",
       "      <td>-0.067267</td>\n",
       "      <td>-0.051547</td>\n",
       "    </tr>\n",
       "    <tr>\n",
       "      <th>ethnicity</th>\n",
       "      <td>0.110264</td>\n",
       "      <td>0.043803</td>\n",
       "      <td>-0.013296</td>\n",
       "      <td>0.161475</td>\n",
       "      <td>0.082868</td>\n",
       "      <td>0.060569</td>\n",
       "      <td>0.101550</td>\n",
       "      <td>0.032272</td>\n",
       "      <td>0.071235</td>\n",
       "      <td>0.017350</td>\n",
       "      <td>0.060753</td>\n",
       "      <td>-0.080033</td>\n",
       "      <td>0.050513</td>\n",
       "      <td>-0.067267</td>\n",
       "      <td>1.000000</td>\n",
       "      <td>-0.041737</td>\n",
       "    </tr>\n",
       "    <tr>\n",
       "      <th>death01</th>\n",
       "      <td>-0.100366</td>\n",
       "      <td>-0.061197</td>\n",
       "      <td>0.139247</td>\n",
       "      <td>-0.015864</td>\n",
       "      <td>0.017776</td>\n",
       "      <td>0.171605</td>\n",
       "      <td>0.009213</td>\n",
       "      <td>0.058831</td>\n",
       "      <td>0.268084</td>\n",
       "      <td>0.029545</td>\n",
       "      <td>0.113992</td>\n",
       "      <td>-0.029204</td>\n",
       "      <td>0.268069</td>\n",
       "      <td>-0.051547</td>\n",
       "      <td>-0.041737</td>\n",
       "      <td>1.000000</td>\n",
       "    </tr>\n",
       "  </tbody>\n",
       "</table>\n",
       "</div>"
      ],
      "text/plain": [
       "                           RNASeqCluster  MethylationCluster  miRNACluster  \\\n",
       "RNASeqCluster                   1.000000           -0.385177     -0.330064   \n",
       "MethylationCluster             -0.385177            1.000000      0.184216   \n",
       "miRNACluster                   -0.330064            0.184216      1.000000   \n",
       "CNCluster                       0.340758           -0.391474     -0.120353   \n",
       "RPPACluster                     0.332406           -0.257001     -0.198783   \n",
       "OncosignCluster                -0.306603            0.332849      0.175146   \n",
       "COCCluster                      0.322487           -0.382116     -0.066604   \n",
       "histological_type               0.355431           -0.433379     -0.185360   \n",
       "neoplasm_histologic_grade      -0.023460            0.183345      0.159085   \n",
       "laterality                      0.100620           -0.038213     -0.094120   \n",
       "tumor_location                 -0.123155            0.137466      0.037806   \n",
       "gender                         -0.118998            0.097130      0.121463   \n",
       "age_at_initial_pathologic       0.125158           -0.323597      0.115306   \n",
       "race                           -0.045281           -0.154506      0.019259   \n",
       "ethnicity                       0.110264            0.043803     -0.013296   \n",
       "death01                        -0.100366           -0.061197      0.139247   \n",
       "\n",
       "                           CNCluster  RPPACluster  OncosignCluster  \\\n",
       "RNASeqCluster               0.340758     0.332406        -0.306603   \n",
       "MethylationCluster         -0.391474    -0.257001         0.332849   \n",
       "miRNACluster               -0.120353    -0.198783         0.175146   \n",
       "CNCluster                   1.000000     0.169965        -0.361197   \n",
       "RPPACluster                 0.169965     1.000000        -0.031818   \n",
       "OncosignCluster            -0.361197    -0.031818         1.000000   \n",
       "COCCluster                  0.917140     0.093537        -0.371498   \n",
       "histological_type           0.359776     0.174727        -0.417356   \n",
       "neoplasm_histologic_grade   0.080024     0.175036         0.207906   \n",
       "laterality                  0.122119     0.146840        -0.052362   \n",
       "tumor_location             -0.284920    -0.045337         0.256053   \n",
       "gender                      0.091741    -0.114245         0.051758   \n",
       "age_at_initial_pathologic   0.435793     0.182755         0.096723   \n",
       "race                        0.057763     0.319552        -0.007165   \n",
       "ethnicity                   0.161475     0.082868         0.060569   \n",
       "death01                    -0.015864     0.017776         0.171605   \n",
       "\n",
       "                           COCCluster  histological_type  \\\n",
       "RNASeqCluster                0.322487           0.355431   \n",
       "MethylationCluster          -0.382116          -0.433379   \n",
       "miRNACluster                -0.066604          -0.185360   \n",
       "CNCluster                    0.917140           0.359776   \n",
       "RPPACluster                  0.093537           0.174727   \n",
       "OncosignCluster             -0.371498          -0.417356   \n",
       "COCCluster                   1.000000           0.381143   \n",
       "histological_type            0.381143           1.000000   \n",
       "neoplasm_histologic_grade    0.090721          -0.259143   \n",
       "laterality                   0.089610           0.158644   \n",
       "tumor_location              -0.335913          -0.187862   \n",
       "gender                       0.084937           0.028951   \n",
       "age_at_initial_pathologic    0.423075           0.104882   \n",
       "race                         0.081860           0.061508   \n",
       "ethnicity                    0.101550           0.032272   \n",
       "death01                      0.009213           0.058831   \n",
       "\n",
       "                           neoplasm_histologic_grade  laterality  \\\n",
       "RNASeqCluster                              -0.023460    0.100620   \n",
       "MethylationCluster                          0.183345   -0.038213   \n",
       "miRNACluster                                0.159085   -0.094120   \n",
       "CNCluster                                   0.080024    0.122119   \n",
       "RPPACluster                                 0.175036    0.146840   \n",
       "OncosignCluster                             0.207906   -0.052362   \n",
       "COCCluster                                  0.090721    0.089610   \n",
       "histological_type                          -0.259143    0.158644   \n",
       "neoplasm_histologic_grade                   1.000000    0.065133   \n",
       "laterality                                  0.065133    1.000000   \n",
       "tumor_location                             -0.050683   -0.108951   \n",
       "gender                                      0.049844    0.031614   \n",
       "age_at_initial_pathologic                   0.163085   -0.091654   \n",
       "race                                        0.087978    0.033067   \n",
       "ethnicity                                   0.071235    0.017350   \n",
       "death01                                     0.268084    0.029545   \n",
       "\n",
       "                           tumor_location    gender  \\\n",
       "RNASeqCluster                   -0.123155 -0.118998   \n",
       "MethylationCluster               0.137466  0.097130   \n",
       "miRNACluster                     0.037806  0.121463   \n",
       "CNCluster                       -0.284920  0.091741   \n",
       "RPPACluster                     -0.045337 -0.114245   \n",
       "OncosignCluster                  0.256053  0.051758   \n",
       "COCCluster                      -0.335913  0.084937   \n",
       "histological_type               -0.187862  0.028951   \n",
       "neoplasm_histologic_grade       -0.050683  0.049844   \n",
       "laterality                      -0.108951  0.031614   \n",
       "tumor_location                   1.000000  0.161817   \n",
       "gender                           0.161817  1.000000   \n",
       "age_at_initial_pathologic       -0.153680  0.073259   \n",
       "race                            -0.035166  0.039223   \n",
       "ethnicity                        0.060753 -0.080033   \n",
       "death01                          0.113992 -0.029204   \n",
       "\n",
       "                           age_at_initial_pathologic      race  ethnicity  \\\n",
       "RNASeqCluster                               0.125158 -0.045281   0.110264   \n",
       "MethylationCluster                         -0.323597 -0.154506   0.043803   \n",
       "miRNACluster                                0.115306  0.019259  -0.013296   \n",
       "CNCluster                                   0.435793  0.057763   0.161475   \n",
       "RPPACluster                                 0.182755  0.319552   0.082868   \n",
       "OncosignCluster                             0.096723 -0.007165   0.060569   \n",
       "COCCluster                                  0.423075  0.081860   0.101550   \n",
       "histological_type                           0.104882  0.061508   0.032272   \n",
       "neoplasm_histologic_grade                   0.163085  0.087978   0.071235   \n",
       "laterality                                 -0.091654  0.033067   0.017350   \n",
       "tumor_location                             -0.153680 -0.035166   0.060753   \n",
       "gender                                      0.073259  0.039223  -0.080033   \n",
       "age_at_initial_pathologic                   1.000000  0.018548   0.050513   \n",
       "race                                        0.018548  1.000000  -0.067267   \n",
       "ethnicity                                   0.050513 -0.067267   1.000000   \n",
       "death01                                     0.268069 -0.051547  -0.041737   \n",
       "\n",
       "                            death01  \n",
       "RNASeqCluster             -0.100366  \n",
       "MethylationCluster        -0.061197  \n",
       "miRNACluster               0.139247  \n",
       "CNCluster                 -0.015864  \n",
       "RPPACluster                0.017776  \n",
       "OncosignCluster            0.171605  \n",
       "COCCluster                 0.009213  \n",
       "histological_type          0.058831  \n",
       "neoplasm_histologic_grade  0.268084  \n",
       "laterality                 0.029545  \n",
       "tumor_location             0.113992  \n",
       "gender                    -0.029204  \n",
       "age_at_initial_pathologic  0.268069  \n",
       "race                      -0.051547  \n",
       "ethnicity                 -0.041737  \n",
       "death01                    1.000000  "
      ]
     },
     "execution_count": 17,
     "metadata": {},
     "output_type": "execute_result"
    }
   ],
   "source": [
    "train1.corr()"
   ]
  },
  {
   "cell_type": "code",
   "execution_count": 18,
   "id": "c8bb19f6",
   "metadata": {
    "scrolled": true
   },
   "outputs": [
    {
     "data": {
      "text/plain": [
       "RNASeqCluster               -0.100366\n",
       "MethylationCluster          -0.061197\n",
       "miRNACluster                 0.139247\n",
       "CNCluster                   -0.015864\n",
       "RPPACluster                  0.017776\n",
       "OncosignCluster              0.171605\n",
       "COCCluster                   0.009213\n",
       "histological_type            0.058831\n",
       "neoplasm_histologic_grade    0.268084\n",
       "laterality                   0.029545\n",
       "tumor_location               0.113992\n",
       "gender                      -0.029204\n",
       "age_at_initial_pathologic    0.268069\n",
       "race                        -0.051547\n",
       "ethnicity                   -0.041737\n",
       "death01                      1.000000\n",
       "Name: death01, dtype: float64"
      ]
     },
     "execution_count": 18,
     "metadata": {},
     "output_type": "execute_result"
    }
   ],
   "source": [
    "train1.corr()[\"death01\"]"
   ]
  },
  {
   "cell_type": "code",
   "execution_count": 19,
   "id": "2e91ec01",
   "metadata": {
    "scrolled": true
   },
   "outputs": [
    {
     "data": {
      "text/plain": [
       "RNASeqCluster\n",
       "1.0    27\n",
       "2.0    26\n",
       "4.0    23\n",
       "3.0    12\n",
       "dtype: int64"
      ]
     },
     "execution_count": 19,
     "metadata": {},
     "output_type": "execute_result"
    }
   ],
   "source": [
    "series1=train1.value_counts(\"RNASeqCluster\")\n",
    "series1"
   ]
  },
  {
   "cell_type": "markdown",
   "id": "b090c196",
   "metadata": {},
   "source": [
    "# which has the highest negative correlation with the target column-> death01"
   ]
  },
  {
   "cell_type": "code",
   "execution_count": 20,
   "id": "769c243c",
   "metadata": {},
   "outputs": [
    {
     "data": {
      "text/plain": [
       "Float64Index([1.0, 2.0, 4.0, 3.0], dtype='float64', name='RNASeqCluster')"
      ]
     },
     "execution_count": 20,
     "metadata": {},
     "output_type": "execute_result"
    }
   ],
   "source": [
    "series1.index"
   ]
  },
  {
   "cell_type": "code",
   "execution_count": 21,
   "id": "75f9eaef",
   "metadata": {},
   "outputs": [
    {
     "data": {
      "text/plain": [
       "array([27, 26, 23, 12], dtype=int64)"
      ]
     },
     "execution_count": 21,
     "metadata": {},
     "output_type": "execute_result"
    }
   ],
   "source": [
    "series1.values"
   ]
  },
  {
   "cell_type": "code",
   "execution_count": 22,
   "id": "535ccb91",
   "metadata": {},
   "outputs": [
    {
     "data": {
      "text/plain": [
       "<Axes: >"
      ]
     },
     "execution_count": 22,
     "metadata": {},
     "output_type": "execute_result"
    },
    {
     "data": {
      "image/png": "[encoded data removed]",
      "text/plain": [
       "<Figure size 640x480 with 1 Axes>"
      ]
     },
     "metadata": {},
     "output_type": "display_data"
    }
   ],
   "source": [
    "df[\"RNASeqCluster\"].value_counts().plot(kind=\"bar\")"
   ]
  },
  {
   "cell_type": "markdown",
   "id": "fe2e8260",
   "metadata": {},
   "source": [
    "# Standardization"
   ]
  },
  {
   "cell_type": "code",
   "execution_count": 23,
   "id": "f9f71133",
   "metadata": {},
   "outputs": [],
   "source": [
    "#building a standardization model"
   ]
  },
  {
   "cell_type": "code",
   "execution_count": 24,
   "id": "b85b4618",
   "metadata": {},
   "outputs": [
    {
     "data": {
      "text/html": [
       "<style>#sk-container-id-1 {color: black;background-color: white;}#sk-container-id-1 pre{padding: 0;}#sk-container-id-1 div.sk-toggleable {background-color: white;}#sk-container-id-1 label.sk-toggleable__label {cursor: pointer;display: block;width: 100%;margin-bottom: 0;padding: 0.3em;box-sizing: border-box;text-align: center;}#sk-container-id-1 label.sk-toggleable__label-arrow:before {content: \"▸\";float: left;margin-right: 0.25em;color: #696969;}#sk-container-id-1 label.sk-toggleable__label-arrow:hover:before {color: black;}#sk-container-id-1 div.sk-estimator:hover label.sk-toggleable__label-arrow:before {color: black;}#sk-container-id-1 div.sk-toggleable__content {max-height: 0;max-width: 0;overflow: hidden;text-align: left;background-color: #f0f8ff;}#sk-container-id-1 div.sk-toggleable__content pre {margin: 0.2em;color: black;border-radius: 0.25em;background-color: #f0f8ff;}#sk-container-id-1 input.sk-toggleable__control:checked~div.sk-toggleable__content {max-height: 200px;max-width: 100%;overflow: auto;}#sk-container-id-1 input.sk-toggleable__control:checked~label.sk-toggleable__label-arrow:before {content: \"▾\";}#sk-container-id-1 div.sk-estimator input.sk-toggleable__control:checked~label.sk-toggleable__label {background-color: #d4ebff;}#sk-container-id-1 div.sk-label input.sk-toggleable__control:checked~label.sk-toggleable__label {background-color: #d4ebff;}#sk-container-id-1 input.sk-hidden--visually {border: 0;clip: rect(1px 1px 1px 1px);clip: rect(1px, 1px, 1px, 1px);height: 1px;margin: -1px;overflow: hidden;padding: 0;position: absolute;width: 1px;}#sk-container-id-1 div.sk-estimator {font-family: monospace;background-color: #f0f8ff;border: 1px dotted black;border-radius: 0.25em;box-sizing: border-box;margin-bottom: 0.5em;}#sk-container-id-1 div.sk-estimator:hover {background-color: #d4ebff;}#sk-container-id-1 div.sk-parallel-item::after {content: \"\";width: 100%;border-bottom: 1px solid gray;flex-grow: 1;}#sk-container-id-1 div.sk-label:hover label.sk-toggleable__label {background-color: #d4ebff;}#sk-container-id-1 div.sk-serial::before {content: \"\";position: absolute;border-left: 1px solid gray;box-sizing: border-box;top: 0;bottom: 0;left: 50%;z-index: 0;}#sk-container-id-1 div.sk-serial {display: flex;flex-direction: column;align-items: center;background-color: white;padding-right: 0.2em;padding-left: 0.2em;position: relative;}#sk-container-id-1 div.sk-item {position: relative;z-index: 1;}#sk-container-id-1 div.sk-parallel {display: flex;align-items: stretch;justify-content: center;background-color: white;position: relative;}#sk-container-id-1 div.sk-item::before, #sk-container-id-1 div.sk-parallel-item::before {content: \"\";position: absolute;border-left: 1px solid gray;box-sizing: border-box;top: 0;bottom: 0;left: 50%;z-index: -1;}#sk-container-id-1 div.sk-parallel-item {display: flex;flex-direction: column;z-index: 1;position: relative;background-color: white;}#sk-container-id-1 div.sk-parallel-item:first-child::after {align-self: flex-end;width: 50%;}#sk-container-id-1 div.sk-parallel-item:last-child::after {align-self: flex-start;width: 50%;}#sk-container-id-1 div.sk-parallel-item:only-child::after {width: 0;}#sk-container-id-1 div.sk-dashed-wrapped {border: 1px dashed gray;margin: 0 0.4em 0.5em 0.4em;box-sizing: border-box;padding-bottom: 0.4em;background-color: white;}#sk-container-id-1 div.sk-label label {font-family: monospace;font-weight: bold;display: inline-block;line-height: 1.2em;}#sk-container-id-1 div.sk-label-container {text-align: center;}#sk-container-id-1 div.sk-container {/* jupyter's `normalize.less` sets `[hidden] { display: none; }` but bootstrap.min.css set `[hidden] { display: none !important; }` so we also need the `!important` here to be able to override the default hidden behavior on the sphinx rendered scikit-learn.org. See: https://github.com/scikit-learn/scikit-learn/issues/21755 */display: inline-block !important;position: relative;}#sk-container-id-1 div.sk-text-repr-fallback {display: none;}</style><div id=\"sk-container-id-1\" class=\"sk-top-container\"><div class=\"sk-text-repr-fallback\"><pre>StandardScaler(with_mean=False)</pre><b>In a Jupyter environment, please rerun this cell to show the HTML representation or trust the notebook. <br />On GitHub, the HTML representation is unable to render, please try loading this page with nbviewer.org.</b></div><div class=\"sk-container\" hidden><div class=\"sk-item\"><div class=\"sk-estimator sk-toggleable\"><input class=\"sk-toggleable__control sk-hidden--visually\" id=\"sk-estimator-id-1\" type=\"checkbox\" checked><label for=\"sk-estimator-id-1\" class=\"sk-toggleable__label sk-toggleable__label-arrow\">StandardScaler</label><div class=\"sk-toggleable__content\"><pre>StandardScaler(with_mean=False)</pre></div></div></div></div></div>"
      ],
      "text/plain": [
       "StandardScaler(with_mean=False)"
      ]
     },
     "execution_count": 24,
     "metadata": {},
     "output_type": "execute_result"
    }
   ],
   "source": [
    "scaler=StandardScaler( with_mean=False)\n",
    "scaler.fit(train1)\n",
    "\n",
    "\n"
   ]
  },
  {
   "cell_type": "code",
   "execution_count": 25,
   "id": "40b143a6",
   "metadata": {},
   "outputs": [
    {
     "name": "stdout",
     "output_type": "stream",
     "text": [
      "train2:  (88, 16)\n",
      "test2:  (22, 16)\n"
     ]
    }
   ],
   "source": [
    "#scaling the training parameters\n",
    "train2=scaler.transform(train1)\n",
    "\n",
    "#scaling the test parameters\n",
    "test2=scaler.transform(test1)\n",
    "\n",
    "\n",
    "print(\"train2: \",train2.shape )\n",
    "print(\"test2: \",test2.shape )\n"
   ]
  },
  {
   "cell_type": "code",
   "execution_count": 26,
   "id": "ad893d81",
   "metadata": {},
   "outputs": [
    {
     "name": "stdout",
     "output_type": "stream",
     "text": [
      "[[ 1.7121303   2.60089055  2.49125901 ...  9.45271634 11.02154752\n",
      "   0.        ]\n",
      " [ 2.56819546  1.73392703  2.49125901 ...  9.45271634 11.02154752\n",
      "   2.34604114]\n",
      " [ 0.85606515  2.60089055  1.24562951 ...  9.45271634 11.02154752\n",
      "   0.        ]\n",
      " ...\n",
      " [ 1.7121303   3.46785407  4.98251803 ...  9.45271634 11.02154752\n",
      "   2.34604114]\n",
      " [ 3.42426061  2.60089055  2.49125901 ...  6.30181089 11.02154752\n",
      "   2.34604114]\n",
      " [ 1.7121303   3.46785407  3.73688852 ...  9.45271634  5.51077376\n",
      "   2.34604114]]\n"
     ]
    }
   ],
   "source": [
    "print(train2)\n"
   ]
  },
  {
   "cell_type": "code",
   "execution_count": 27,
   "id": "7fd3072c",
   "metadata": {},
   "outputs": [
    {
     "data": {
      "text/plain": [
       "(88, 16)"
      ]
     },
     "execution_count": 27,
     "metadata": {},
     "output_type": "execute_result"
    }
   ],
   "source": [
    "train2.shape\n"
   ]
  },
  {
   "cell_type": "code",
   "execution_count": 28,
   "id": "eddf66bb",
   "metadata": {},
   "outputs": [],
   "source": [
    "data=np.concatenate((train2,test2), axis=0)"
   ]
  },
  {
   "cell_type": "code",
   "execution_count": 29,
   "id": "f3a94444",
   "metadata": {},
   "outputs": [
    {
     "data": {
      "text/plain": [
       "array([[ 1.7121303 ,  2.60089055,  2.49125901, ...,  9.45271634,\n",
       "        11.02154752,  0.        ],\n",
       "       [ 2.56819546,  1.73392703,  2.49125901, ...,  9.45271634,\n",
       "        11.02154752,  2.34604114],\n",
       "       [ 0.85606515,  2.60089055,  1.24562951, ...,  9.45271634,\n",
       "        11.02154752,  0.        ],\n",
       "       ...,\n",
       "       [ 1.7121303 ,  2.60089055,  2.49125901, ...,  9.45271634,\n",
       "        11.02154752,  0.        ],\n",
       "       [ 3.42426061,  1.73392703,  2.49125901, ...,  9.45271634,\n",
       "        11.02154752,  0.        ],\n",
       "       [ 2.56819546,  2.60089055,  2.49125901, ...,  9.45271634,\n",
       "        11.02154752,  0.        ]])"
      ]
     },
     "execution_count": 29,
     "metadata": {},
     "output_type": "execute_result"
    }
   ],
   "source": [
    "data"
   ]
  },
  {
   "cell_type": "code",
   "execution_count": 30,
   "id": "de36b9f2",
   "metadata": {},
   "outputs": [],
   "source": [
    "X_train, X_test, y_train, y_test = train_test_split(data[:, :-1], data[:, -1], test_size=0.2, random_state=42)\n",
    "\n",
    "# build the model"
   ]
  },
  {
   "cell_type": "code",
   "execution_count": 47,
   "id": "7def22e4",
   "metadata": {},
   "outputs": [],
   "source": [
    "model = Sequential()\n",
    "model.add(SimpleRNN(32,activation='ReLU', input_shape=(X_train.shape[1], 1)))\n",
    "model.add(Dense(1))\n",
    "model.compile(loss='binary_crossentropy', optimizer='Adam', metrics=['accuracy'])\n",
    "\n",
    "\n"
   ]
  },
  {
   "cell_type": "code",
   "execution_count": 32,
   "id": "ebda885e",
   "metadata": {},
   "outputs": [],
   "source": [
    "# model = Sequential()\n",
    "# model.add(SimpleRNN(32, input_shape=(X_train.shape[1], 1)))\n",
    "# model.add(Dense(1))\n",
    "# model.compile(loss='mse', optimizer='Adam', metrics=['accuracy'])"
   ]
  },
  {
   "cell_type": "code",
   "execution_count": 48,
   "id": "11f8eb74",
   "metadata": {
    "scrolled": true
   },
   "outputs": [
    {
     "name": "stdout",
     "output_type": "stream",
     "text": [
      "Epoch 1/5\n",
      "3/3 [==============================] - 1s 103ms/step - loss: 8.7884 - accuracy: 0.7571 - val_loss: 12.0625 - val_accuracy: 0.6667\n",
      "Epoch 2/5\n",
      "3/3 [==============================] - 0s 15ms/step - loss: 8.7884 - accuracy: 0.7571 - val_loss: 12.0625 - val_accuracy: 0.6667\n",
      "Epoch 3/5\n",
      "3/3 [==============================] - 0s 16ms/step - loss: 8.7884 - accuracy: 0.7571 - val_loss: 12.0625 - val_accuracy: 0.6667\n",
      "Epoch 4/5\n",
      "3/3 [==============================] - 0s 16ms/step - loss: 8.7884 - accuracy: 0.7571 - val_loss: 12.0625 - val_accuracy: 0.6667\n",
      "Epoch 5/5\n",
      "3/3 [==============================] - 0s 16ms/step - loss: 8.7884 - accuracy: 0.7571 - val_loss: 12.0625 - val_accuracy: 0.6667\n"
     ]
    },
    {
     "data": {
      "text/plain": [
       "<keras.callbacks.History at 0x26ebd926890>"
      ]
     },
     "execution_count": 48,
     "metadata": {},
     "output_type": "execute_result"
    }
   ],
   "source": [
    "model.fit(X_train.reshape(X_train.shape[0], X_train.shape[1], 1), y_train, epochs=5, validation_split=0.2)"
   ]
  },
  {
   "cell_type": "code",
   "execution_count": 49,
   "id": "c84bf53f",
   "metadata": {
    "scrolled": false
   },
   "outputs": [
    {
     "name": "stdout",
     "output_type": "stream",
     "text": [
      "1/1 [==============================] - 0s 19ms/step - loss: 6.5796 - accuracy: 0.8182\n",
      "Test accuracy: 81.81818127632141\n"
     ]
    }
   ],
   "source": [
    "loss, accuracy = model.evaluate(X_test.reshape(X_test.shape[0], X_test.shape[1], 1), y_test)\n",
    "# print(\"Test loss:\", loss)\n",
    "print(\"Test accuracy:\", accuracy*100)"
   ]
  },
  {
   "cell_type": "code",
   "execution_count": null,
   "id": "97f50ea9",
   "metadata": {},
   "outputs": [],
   "source": []
  },
  {
   "cell_type": "code",
   "execution_count": null,
   "id": "8e7e890d",
   "metadata": {},
   "outputs": [],
   "source": []
  }
 ],
 "metadata": {
  "kernelspec": {
   "display_name": "Python 3 (ipykernel)",
   "language": "python",
   "name": "python3"
  },
  "language_info": {
   "codemirror_mode": {
    "name": "ipython",
    "version": 3
   },
   "file_extension": ".py",
   "mimetype": "text/x-python",
   "name": "python",
   "nbconvert_exporter": "python",
   "pygments_lexer": "ipython3",
   "version": "3.11.2"
  }
 },
 "nbformat": 4,
 "nbformat_minor": 5
}
